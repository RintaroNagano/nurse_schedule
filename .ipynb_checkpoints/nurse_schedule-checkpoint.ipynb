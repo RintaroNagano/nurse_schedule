{
 "cells": [
  {
   "cell_type": "code",
   "execution_count": 1,
   "id": "4cb2aed0",
   "metadata": {},
   "outputs": [],
   "source": [
    "import pulp"
   ]
  },
  {
   "cell_type": "code",
   "execution_count": 2,
   "id": "fc43db7e",
   "metadata": {},
   "outputs": [],
   "source": [
    "# * リスト\n",
    "# M: ナースの集合\n",
    "M = list(range(1, 9))\n",
    "\n",
    "# D: 日付の集合\n",
    "D = list(range(1, 15))\n",
    "\n",
    "# C: 勤務区分の集合\n",
    "C = ['/', 'D', 'N'] # C[0]: 休み C[1]: 昼勤 C[2]: 夜勤\n",
    "# Q: 禁止シフト1\n",
    "Q = ['ND', '/D/', '/N/']\n",
    "# Q: 禁止シフト2\n",
    "Q2 = ['DDDD/D', 'DDDD/N', 'DDDN/D', 'DDDN/N', 'DDNN/D', 'DDNN/N', 'DNNN/D', 'DNNN/N', 'NNNN/D', 'NNNN/N']"
   ]
  },
  {
   "cell_type": "code",
   "execution_count": null,
   "id": "550ecf14",
   "metadata": {},
   "outputs": [],
   "source": []
  },
  {
   "cell_type": "code",
   "execution_count": 4,
   "id": "8fe299cf",
   "metadata": {},
   "outputs": [
    {
     "name": "stderr",
     "output_type": "stream",
     "text": [
      "qemu-x86_64: Could not open '/lib64/ld-linux-x86-64.so.2': No such file or directory\n"
     ]
    },
    {
     "ename": "PulpSolverError",
     "evalue": "Pulp: Error while trying to execute, use msg=True for more details/opt/conda/lib/python3.10/site-packages/pulp/solverdir/cbc/linux/64/cbc",
     "output_type": "error",
     "traceback": [
      "\u001b[0;31m---------------------------------------------------------------------------\u001b[0m",
      "\u001b[0;31mPulpSolverError\u001b[0m                           Traceback (most recent call last)",
      "Cell \u001b[0;32mIn[4], line 68\u001b[0m\n\u001b[1;32m     65\u001b[0m         \u001b[38;5;28;01mfor\u001b[39;00m d \u001b[38;5;129;01min\u001b[39;00m D[t:]:\n\u001b[1;32m     66\u001b[0m             problem \u001b[38;5;241m+\u001b[39m\u001b[38;5;241m=\u001b[39m pulp\u001b[38;5;241m.\u001b[39mlpSum([x[m, d \u001b[38;5;241m-\u001b[39m t \u001b[38;5;241m+\u001b[39m h, q[h]] \u001b[38;5;28;01mfor\u001b[39;00m h \u001b[38;5;129;01min\u001b[39;00m \u001b[38;5;28mrange\u001b[39m(t\u001b[38;5;241m+\u001b[39m\u001b[38;5;241m1\u001b[39m)]) \u001b[38;5;241m<\u001b[39m\u001b[38;5;241m=\u001b[39m t\n\u001b[0;32m---> 68\u001b[0m pulp\u001b[38;5;241m.\u001b[39mLpStatus[\u001b[43mproblem\u001b[49m\u001b[38;5;241;43m.\u001b[39;49m\u001b[43msolve\u001b[49m\u001b[43m(\u001b[49m\u001b[43m)\u001b[49m]\n",
      "File \u001b[0;32m/opt/conda/lib/python3.10/site-packages/pulp/pulp.py:1913\u001b[0m, in \u001b[0;36mLpProblem.solve\u001b[0;34m(self, solver, **kwargs)\u001b[0m\n\u001b[1;32m   1911\u001b[0m \u001b[38;5;66;03m# time it\u001b[39;00m\n\u001b[1;32m   1912\u001b[0m \u001b[38;5;28mself\u001b[39m\u001b[38;5;241m.\u001b[39mstartClock()\n\u001b[0;32m-> 1913\u001b[0m status \u001b[38;5;241m=\u001b[39m \u001b[43msolver\u001b[49m\u001b[38;5;241;43m.\u001b[39;49m\u001b[43mactualSolve\u001b[49m\u001b[43m(\u001b[49m\u001b[38;5;28;43mself\u001b[39;49m\u001b[43m,\u001b[49m\u001b[43m \u001b[49m\u001b[38;5;241;43m*\u001b[39;49m\u001b[38;5;241;43m*\u001b[39;49m\u001b[43mkwargs\u001b[49m\u001b[43m)\u001b[49m\n\u001b[1;32m   1914\u001b[0m \u001b[38;5;28mself\u001b[39m\u001b[38;5;241m.\u001b[39mstopClock()\n\u001b[1;32m   1915\u001b[0m \u001b[38;5;28mself\u001b[39m\u001b[38;5;241m.\u001b[39mrestoreObjective(wasNone, dummyVar)\n",
      "File \u001b[0;32m/opt/conda/lib/python3.10/site-packages/pulp/apis/coin_api.py:137\u001b[0m, in \u001b[0;36mCOIN_CMD.actualSolve\u001b[0;34m(self, lp, **kwargs)\u001b[0m\n\u001b[1;32m    135\u001b[0m \u001b[38;5;28;01mdef\u001b[39;00m \u001b[38;5;21mactualSolve\u001b[39m(\u001b[38;5;28mself\u001b[39m, lp, \u001b[38;5;241m*\u001b[39m\u001b[38;5;241m*\u001b[39mkwargs):\n\u001b[1;32m    136\u001b[0m \u001b[38;5;250m    \u001b[39m\u001b[38;5;124;03m\"\"\"Solve a well formulated lp problem\"\"\"\u001b[39;00m\n\u001b[0;32m--> 137\u001b[0m     \u001b[38;5;28;01mreturn\u001b[39;00m \u001b[38;5;28;43mself\u001b[39;49m\u001b[38;5;241;43m.\u001b[39;49m\u001b[43msolve_CBC\u001b[49m\u001b[43m(\u001b[49m\u001b[43mlp\u001b[49m\u001b[43m,\u001b[49m\u001b[43m \u001b[49m\u001b[38;5;241;43m*\u001b[39;49m\u001b[38;5;241;43m*\u001b[39;49m\u001b[43mkwargs\u001b[49m\u001b[43m)\u001b[49m\n",
      "File \u001b[0;32m/opt/conda/lib/python3.10/site-packages/pulp/apis/coin_api.py:206\u001b[0m, in \u001b[0;36mCOIN_CMD.solve_CBC\u001b[0;34m(self, lp, use_mps)\u001b[0m\n\u001b[1;32m    204\u001b[0m     \u001b[38;5;28;01mif\u001b[39;00m pipe:\n\u001b[1;32m    205\u001b[0m         pipe\u001b[38;5;241m.\u001b[39mclose()\n\u001b[0;32m--> 206\u001b[0m     \u001b[38;5;28;01mraise\u001b[39;00m PulpSolverError(\n\u001b[1;32m    207\u001b[0m         \u001b[38;5;124m\"\u001b[39m\u001b[38;5;124mPulp: Error while trying to execute, use msg=True for more details\u001b[39m\u001b[38;5;124m\"\u001b[39m\n\u001b[1;32m    208\u001b[0m         \u001b[38;5;241m+\u001b[39m \u001b[38;5;28mself\u001b[39m\u001b[38;5;241m.\u001b[39mpath\n\u001b[1;32m    209\u001b[0m     )\n\u001b[1;32m    210\u001b[0m \u001b[38;5;28;01mif\u001b[39;00m pipe:\n\u001b[1;32m    211\u001b[0m     pipe\u001b[38;5;241m.\u001b[39mclose()\n",
      "\u001b[0;31mPulpSolverError\u001b[0m: Pulp: Error while trying to execute, use msg=True for more details/opt/conda/lib/python3.10/site-packages/pulp/solverdir/cbc/linux/64/cbc"
     ]
    }
   ],
   "source": [
    "problem = pulp.LpProblem(sense=pulp.LpMinimize)\n",
    "\n",
    "# 変数\n",
    "# x[i, j, k]: ナース番号iがj日の勤務kであるかどうか\n",
    "x = pulp.LpVariable.dicts('x', [(m, d, c) for m in M for d in D for c in C], cat='Binary')\n",
    "# y[i, j]: ナース番号iがj番目の週末に休暇をとるかどうか\n",
    "y = pulp.LpVariable.dicts('y', [(m, i) for m in M for i in [0, 1]], cat='Binary')\n",
    "\n",
    "# その日の勤務は休み、昼勤、夜勤のどれか1つ\n",
    "for m in M:\n",
    "    for d in D:\n",
    "        problem += pulp.lpSum([x[m, d, c] for c in C]) == 1\n",
    "# 制約(0)\n",
    "# 各日の各シフトにおいて、2人のナースが勤務しなければならない\n",
    "# ok\n",
    "for d in D:\n",
    "    for c in C[1:]:\n",
    "        problem += pulp.lpSum([x[m, d, c] for m in M]) == 2 \n",
    "# 制約(1)\n",
    "# 休みを7回以上確保する\n",
    "for m in M:\n",
    "    problem += pulp.lpSum([x[m, d, C[0]] for d in D]) >= 7\n",
    "\n",
    "# 制約(2)\n",
    "# 週末(土日)連休を1回以上確保する\n",
    "for m in M:\n",
    "    problem += pulp.lpSum([y[m, i] for i in [0, 1]]) >= 1\n",
    "    problem += x[m, 6, C[0]] + x[m, 7, C[0]] == y[m, 0] * 2\n",
    "    problem += x[m, 13, C[0]] + x[m, 14, C[0]] == y[m, 1] * 2\n",
    " \n",
    "\n",
    "# 制約(3)\n",
    "# 連続勤務は4日までしか許されない\n",
    "for m in M:\n",
    "    for d in D[4:]:        \n",
    "        problem += pulp.lpSum([x[m, d - h, c] for h in range(4 + 1) for c in C[1:]]) <= 4\n",
    "\n",
    "# 制約(4)\n",
    "# 夜勤の翌日の日勤は許されない\n",
    "q0 = Q[0]\n",
    "t = len(q0) - 1\n",
    "for m in M:\n",
    "    for d in D[t:]:\n",
    "        problem += pulp.lpSum([x[m, d - t + h, q0[h]] for h in range(t+1)]) <= t\n",
    "# 制約(5)\n",
    "# 夜勤は3日連続までしか許されない\n",
    "for m in M:\n",
    "    for d in D[3:]:        \n",
    "        problem += pulp.lpSum([x[m, d - h, C[2]] for h in range(3 + 1)]) <= 3\n",
    "\n",
    "# ----- 条件6からは可能であればの条件。\n",
    "# 制約(6)\n",
    "# 前後が休みになる孤立勤務を避ける\n",
    "for m in M:\n",
    "    for q in Q[1:]:\n",
    "        t = len(q) - 1\n",
    "        for d in D[t:]:\n",
    "            problem += pulp.lpSum([x[m, d - t + h, q[h]] for h in range(t+1)]) <= t\n",
    "# 制約(7)\n",
    "# 4連続勤務を避ける。避けられない場合は直後の2日間を休みにする\n",
    "# * 4連続勤務の場合、増える何かを作って最小化すれば良いと思う...\n",
    "for m in M:\n",
    "    for q in Q2:\n",
    "        t = len(q) - 1\n",
    "        for d in D[t:]:\n",
    "            problem += pulp.lpSum([x[m, d - t + h, q[h]] for h in range(t+1)]) <= t\n",
    "\n",
    "pulp.LpStatus[problem.solve()]"
   ]
  },
  {
   "cell_type": "code",
   "execution_count": null,
   "id": "40efa636",
   "metadata": {},
   "outputs": [],
   "source": [
    "print(' , 1, 2, 3, 4, 5, 6, 7, 8, 9,10,11,12,13,14, /, D, N,週末')\n",
    "for p in M:\n",
    "    buf = []    \n",
    "    for d in D:\n",
    "        for c in C:\n",
    "            if x[p, d, c].value():\n",
    "                buf.append(f' {c}')\n",
    "    print(f\"{p},{','.join(buf)},{buf.count(' /'): 2d},{buf.count(' D'): 2d},{buf.count(' N'): 2d}, {int(y[p, 0].value()):d}{int(y[p, 1].value()):d}\")    \n",
    "for c in C[1:]:\n",
    "    buf = []\n",
    "    for d in D:\n",
    "        buf.append(f\" {str(int(sum([x[p, d, c].value() for p in M])))}\")\n",
    "    print(f\"{c}:{','.join(buf)}\")"
   ]
  }
 ],
 "metadata": {
  "kernelspec": {
   "display_name": "Python 3 (ipykernel)",
   "language": "python",
   "name": "python3"
  },
  "language_info": {
   "codemirror_mode": {
    "name": "ipython",
    "version": 3
   },
   "file_extension": ".py",
   "mimetype": "text/x-python",
   "name": "python",
   "nbconvert_exporter": "python",
   "pygments_lexer": "ipython3",
   "version": "3.10.9"
  }
 },
 "nbformat": 4,
 "nbformat_minor": 5
}
